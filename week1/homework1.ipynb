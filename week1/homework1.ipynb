{
 "cells": [
  {
   "cell_type": "code",
   "execution_count": 1,
   "id": "4382e007-b114-4126-9c01-4b8014eec3ac",
   "metadata": {},
   "outputs": [],
   "source": [
    "import os\n",
    "import pandas as pd\n",
    "from sklearn.feature_extraction import DictVectorizer\n",
    "from sklearn.linear_model import LinearRegression\n",
    "from sklearn.metrics import mean_squared_error\n"
   ]
  },
  {
   "cell_type": "code",
   "execution_count": 3,
   "id": "84a15cd6-b91f-46c4-a901-a57ae788d6a3",
   "metadata": {},
   "outputs": [],
   "source": [
    "!bash get_data.sh"
   ]
  },
  {
   "cell_type": "code",
   "execution_count": 4,
   "id": "f11d79c5-c6aa-46c4-8b7a-5eec206696ff",
   "metadata": {},
   "outputs": [],
   "source": [
    "def prepare_file(file):\n",
    "    df = pd.read_parquet('../data/'+file)\n",
    "    df['duration'] = df.dropOff_datetime - df.pickup_datetime\n",
    "    df.duration = df.duration.apply(lambda td: td.total_seconds() / 60)\n",
    "    \n",
    "    entries_total = df.shape[0]\n",
    "    df = df[(df['duration'] >= 1) & (df['duration'] <= 60)]\n",
    "    print(f\"{entries_total - df.shape[0]} (potential) outliers were dropped.\", '\\n')\n",
    "    \n",
    "    df['PUlocationID'].fillna(-1, inplace=True)\n",
    "    print(f\"The proportion of trips with missing pickup location is {df[df.PUlocationID == -1].shape[0]/df.shape[0]}.\", '\\n')\n",
    "    \n",
    "    return df\n"
   ]
  },
  {
   "cell_type": "code",
   "execution_count": 5,
   "id": "f415d86a-f2dc-411f-9cf0-3fa6ff2b9db9",
   "metadata": {},
   "outputs": [
    {
     "name": "stdout",
     "output_type": "stream",
     "text": [
      "Q1: The number of entries in fhv_tripdata_2021-01.parquet is 1154112 \n",
      "\n",
      "Q2: The average duration of trips in fhv_tripdata_2021-01.parquet is 19.167224093791006 minutes. \n",
      "\n",
      "44286 (potential) outliers were dropped. \n",
      "\n",
      "Q3: The proportion of trips with missing pickup location is 0.8352732770722617. \n",
      "\n"
     ]
    }
   ],
   "source": [
    "###Question 1\n",
    "file = 'fhv_tripdata_2021-01.parquet'\n",
    "df = pd.read_parquet('../data/'+file)\n",
    "print(f\"Q1: The number of entries in {file} is {df.shape[0]}\", '\\n')\n",
    "\n",
    "###Question 2\n",
    "df['duration'] = df.dropOff_datetime - df.pickup_datetime\n",
    "df.duration = df.duration.apply(lambda td: td.total_seconds() / 60)\n",
    "print(f\"Q2: The average duration of trips in {file} is {df.duration.mean()} minutes.\", '\\n')\n",
    "\n",
    "entries_total = df.shape[0]\n",
    "df = df[(df['duration'] >= 1) & (df['duration'] <= 60)]\n",
    "print(f\"{entries_total - df.shape[0]} (potential) outliers were dropped.\", '\\n')\n",
    "\n",
    "###Question 3\n",
    "df['PUlocationID'].fillna(-1, inplace=True)\n",
    "print(f\"Q3: The proportion of trips with missing pickup location is {df[df.PUlocationID == -1].shape[0]/df.shape[0]}.\", '\\n')\n"
   ]
  },
  {
   "cell_type": "code",
   "execution_count": 6,
   "id": "66d780a4-6927-4723-b01a-472de7b622bc",
   "metadata": {},
   "outputs": [],
   "source": [
    "features = ['PUlocationID', 'DOlocationID']\n",
    "target = 'duration'\n",
    "train_dicts = df[features].astype(str).to_dict(orient='records')"
   ]
  },
  {
   "cell_type": "code",
   "execution_count": 7,
   "id": "c2bfdebb-f798-41f2-b3c6-590021630c45",
   "metadata": {},
   "outputs": [
    {
     "name": "stdout",
     "output_type": "stream",
     "text": [
      "47579 (potential) outliers were dropped. \n",
      "\n",
      "The proportion of trips with missing pickup location is 0.8571354986754037. \n",
      "\n"
     ]
    }
   ],
   "source": [
    "file_val = 'fhv_tripdata_2021-02.parquet'\n",
    "df_val = prepare_file(file_val)\n",
    "val_dicts = df_val[features].astype(str).to_dict(orient='records')"
   ]
  },
  {
   "cell_type": "code",
   "execution_count": 8,
   "id": "f952274e-f02f-40bf-aef5-8d1217fc1574",
   "metadata": {},
   "outputs": [],
   "source": [
    "dv = DictVectorizer()\n",
    "X_train = dv.fit_transform(train_dicts)\n",
    "X_val = dv.transform(val_dicts)"
   ]
  },
  {
   "cell_type": "code",
   "execution_count": null,
   "id": "a73a5ecc-e7d7-437a-a17a-0513da8ac140",
   "metadata": {},
   "outputs": [],
   "source": []
  },
  {
   "cell_type": "code",
   "execution_count": 9,
   "id": "11138ab7-2ea1-4299-87a3-db47f09c0ca8",
   "metadata": {},
   "outputs": [
    {
     "name": "stdout",
     "output_type": "stream",
     "text": [
      "Q4: The dimensionality of the feature matrix is 525.\n"
     ]
    }
   ],
   "source": [
    "print(f\"Q4: The dimensionality of the feature matrix is {X_train.shape[1]}.\")"
   ]
  },
  {
   "cell_type": "code",
   "execution_count": 10,
   "id": "e46a53e2-7409-46ee-a8af-14e568c763b4",
   "metadata": {},
   "outputs": [],
   "source": [
    "lr = LinearRegression()"
   ]
  },
  {
   "cell_type": "code",
   "execution_count": 11,
   "id": "e8a3cf7f-ee89-49f4-8893-34bb37b88502",
   "metadata": {},
   "outputs": [],
   "source": [
    "y_train = df[target].values\n",
    "y_val = df_val[target].values"
   ]
  },
  {
   "cell_type": "code",
   "execution_count": 12,
   "id": "a23964d0-245c-4439-afdf-94ce36059fef",
   "metadata": {},
   "outputs": [],
   "source": [
    "lr.fit(X_train, y_train)\n",
    "y_pred = lr.predict(X_train)\n",
    "y_pred_val = lr.predict(X_val)\n",
    "RMSE = mean_squared_error(y_train, y_pred, squared=False)\n",
    "RMSE_val = mean_squared_error(y_val, y_pred_val, squared=False)"
   ]
  },
  {
   "cell_type": "code",
   "execution_count": 13,
   "id": "707054d1-f1ed-4450-ad2e-63b8cb55723f",
   "metadata": {},
   "outputs": [
    {
     "name": "stdout",
     "output_type": "stream",
     "text": [
      "Q5: The RMSE on the training set is 10.528519405244424.\n"
     ]
    }
   ],
   "source": [
    "print(f\"Q5: The RMSE on the training set is {RMSE}.\")"
   ]
  },
  {
   "cell_type": "code",
   "execution_count": 14,
   "id": "f432bff7-0228-4b60-916e-162a7b05d5c6",
   "metadata": {},
   "outputs": [
    {
     "name": "stdout",
     "output_type": "stream",
     "text": [
      "Q6: The RMSE on the validation set is 11.014288029210666.\n"
     ]
    }
   ],
   "source": [
    "print(f\"Q6: The RMSE on the validation set is {RMSE_val}.\")"
   ]
  },
  {
   "cell_type": "code",
   "execution_count": null,
   "id": "065b8568-7d6e-4f0a-aa8b-a1642447ac1c",
   "metadata": {},
   "outputs": [],
   "source": []
  }
 ],
 "metadata": {
  "kernelspec": {
   "display_name": "mlops-zc",
   "language": "python",
   "name": "mlops-zc"
  },
  "language_info": {
   "codemirror_mode": {
    "name": "ipython",
    "version": 3
   },
   "file_extension": ".py",
   "mimetype": "text/x-python",
   "name": "python",
   "nbconvert_exporter": "python",
   "pygments_lexer": "ipython3",
   "version": "3.9.12"
  }
 },
 "nbformat": 4,
 "nbformat_minor": 5
}
